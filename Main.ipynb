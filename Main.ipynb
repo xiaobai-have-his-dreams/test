{
 "cells": [
  {
   "cell_type": "code",
   "execution_count": 1,
   "metadata": {
    "jupyter": {
     "outputs_hidden": false
    }
   },
   "outputs": [
    {
     "ename": "ModuleNotFoundError",
     "evalue": "No module named 'keras'",
     "output_type": "error",
     "traceback": [
      "\u001b[1;31m---------------------------------------------------------------------------\u001b[0m",
      "\u001b[1;31mModuleNotFoundError\u001b[0m                       Traceback (most recent call last)",
      "\u001b[1;32m~\\AppData\\Local\\Temp\\ipykernel_34248\\967257674.py\u001b[0m in \u001b[0;36m<module>\u001b[1;34m\u001b[0m\n\u001b[0;32m      1\u001b[0m \u001b[1;31m# 模型\u001b[0m\u001b[1;33m\u001b[0m\u001b[1;33m\u001b[0m\u001b[0m\n\u001b[1;32m----> 2\u001b[1;33m \u001b[1;32mfrom\u001b[0m \u001b[0mkeras\u001b[0m\u001b[1;33m.\u001b[0m\u001b[0mlayers\u001b[0m \u001b[1;32mimport\u001b[0m \u001b[0mInput\u001b[0m\u001b[1;33m,\u001b[0m \u001b[0mDense\u001b[0m\u001b[1;33m,\u001b[0m \u001b[0mLSTM\u001b[0m\u001b[1;33m,\u001b[0m \u001b[0mmerge\u001b[0m\u001b[1;33m,\u001b[0m \u001b[0mConv1D\u001b[0m\u001b[1;33m,\u001b[0m \u001b[0mDropout\u001b[0m\u001b[1;33m,\u001b[0m \u001b[0mBidirectional\u001b[0m\u001b[1;33m,\u001b[0m \u001b[0mMultiply\u001b[0m\u001b[1;33m\u001b[0m\u001b[1;33m\u001b[0m\u001b[0m\n\u001b[0m\u001b[0;32m      3\u001b[0m \u001b[1;32mfrom\u001b[0m \u001b[0mkeras\u001b[0m\u001b[1;33m.\u001b[0m\u001b[0mlayers\u001b[0m\u001b[1;33m.\u001b[0m\u001b[0mcore\u001b[0m \u001b[1;32mimport\u001b[0m \u001b[1;33m*\u001b[0m\u001b[1;33m\u001b[0m\u001b[1;33m\u001b[0m\u001b[0m\n\u001b[0;32m      4\u001b[0m \u001b[1;32mfrom\u001b[0m \u001b[0mkeras\u001b[0m\u001b[1;33m.\u001b[0m\u001b[0mlayers\u001b[0m\u001b[1;33m.\u001b[0m\u001b[0mrecurrent\u001b[0m \u001b[1;32mimport\u001b[0m \u001b[0mLSTM\u001b[0m\u001b[1;33m\u001b[0m\u001b[1;33m\u001b[0m\u001b[0m\n\u001b[0;32m      5\u001b[0m \u001b[1;32mfrom\u001b[0m \u001b[0mkeras\u001b[0m\u001b[1;33m.\u001b[0m\u001b[0mmodels\u001b[0m \u001b[1;32mimport\u001b[0m \u001b[1;33m*\u001b[0m\u001b[1;33m\u001b[0m\u001b[1;33m\u001b[0m\u001b[0m\n",
      "\u001b[1;31mModuleNotFoundError\u001b[0m: No module named 'keras'"
     ]
    }
   ],
   "source": [
    "# 模型\n",
    "from keras.layers import Input, Dense, LSTM, merge, Conv1D, Dropout, Bidirectional, Multiply\n",
    "from keras.layers.core import *\n",
    "from keras.layers.recurrent import LSTM\n",
    "from keras.models import *\n",
    "\n",
    "import pandas as pd\n",
    "import numpy as np\n",
    "import openpyxl\n",
    "import matplotlib.pyplot as plt\n",
    "import csv\n",
    "\n",
    "# 处理数据集\n",
    "def create_dataset(dataset, time_steps):\n",
    "    dataX, dataY = [], []\n",
    "    step = time_steps // 2\n",
    "    for i in range(step, len(dataset) - step):\n",
    "        x = dataset[(i - step):(i + step + 1), 1:]\n",
    "        dataX.append(x)\n",
    "        y = [dataset[i, 0]]\n",
    "        dataY.append(y)\n",
    "    TrainX = np.array(dataX)\n",
    "    TrainY = np.array(dataY)\n",
    "    # print(TrainY)\n",
    "    # print(\"TrainX.shape\", TrainX.shape)\n",
    "    # print(\"Train_Y.shape\", TrainY.shape)\n",
    "\n",
    "    return TrainX, TrainY\n",
    "\n",
    "\n",
    "# 数据多维归一化  返回数据和最大最小值\n",
    "def NormalizeMult(data):\n",
    "    # normalize 用于反归一化\n",
    "    normalize = np.arange(2*data.shape[1], dtype='float64')\n",
    "\n",
    "    normalize = normalize.reshape(data.shape[1], 2)\n",
    "    # print(\"normalize.shape:\", normalize.shape)\n",
    "    for i in range(0, data.shape[1]):\n",
    "        # 第i列\n",
    "        list = data[:, i]\n",
    "        listlow, listhigh = np.percentile(list, [0, 100])\n",
    "        # print(i)\n",
    "        normalize[i, 0] = listlow\n",
    "        normalize[i, 1] = listhigh\n",
    "        delta = listhigh - listlow\n",
    "        if delta != 0:\n",
    "            # 第j行\n",
    "            for j in range(0, data.shape[0]):\n",
    "                data[j, i] = (data[j, i] - listlow)/delta\n",
    "\n",
    "    return data, normalize\n",
    "\n",
    "\n",
    "# 多维反归一化\n",
    "def FNormalizeMult(data, normalize):\n",
    "    data = np.array(data)\n",
    "    for i in range(0, data.shape[1]):\n",
    "        listlow = normalize[i, 0]\n",
    "        listhigh = normalize[i, 1]\n",
    "        delta = listhigh - listlow\n",
    "        if delta != 0:\n",
    "            # 第j行\n",
    "            for j in range(0, data.shape[0]):\n",
    "                data[j, i] = data[j, i]*delta + listlow\n",
    "\n",
    "    return data\n",
    "\n",
    "\n",
    "# 定义模型\n",
    "def lstm_model():\n",
    "    inputs = Input(shape=(TIME_STEPS, INPUT_DIMS))\n",
    "    lstm_out = Bidirectional(LSTM(lstm_units, return_sequences=True))(inputs)\n",
    "    # lstm_out = LSTM(lstm_units, return_sequences=True)(inputs)\n",
    "    lstm_out = Dropout(drop)(lstm_out)\n",
    "    lstm_out = Flatten()(lstm_out)\n",
    "\n",
    "    output = Dense(1, activation='sigmoid')(lstm_out)\n",
    "    model = Model(inputs=[inputs], outputs=output)\n",
    "    return model\n",
    "\n",
    "# 设置参数\n",
    "INPUT_DIMS = 6\n",
    "TIME_STEPS = 5\n",
    "lstm_units = 64\n",
    "drop = 0.2"
   ]
  },
  {
   "cell_type": "code",
   "execution_count": 2,
   "metadata": {
    "jupyter": {
     "outputs_hidden": false
    }
   },
   "outputs": [
    {
     "ename": "FileNotFoundError",
     "evalue": "[WinError 3] 系统找不到指定的路径。: 'E:\\\\code\\\\BiLSTM\\\\BiLSTM\\\\trainA1_2'",
     "output_type": "error",
     "traceback": [
      "\u001b[1;31m---------------------------------------------------------------------------\u001b[0m",
      "\u001b[1;31mFileNotFoundError\u001b[0m                         Traceback (most recent call last)",
      "\u001b[1;32m~\\AppData\\Local\\Temp\\ipykernel_34248\\1450465171.py\u001b[0m in \u001b[0;36m<module>\u001b[1;34m\u001b[0m\n\u001b[0;32m     11\u001b[0m \u001b[1;33m\u001b[0m\u001b[0m\n\u001b[0;32m     12\u001b[0m \u001b[1;31m# 遍历文件夹下的每个xlsx文件\u001b[0m\u001b[1;33m\u001b[0m\u001b[1;33m\u001b[0m\u001b[0m\n\u001b[1;32m---> 13\u001b[1;33m \u001b[1;32mfor\u001b[0m \u001b[0mfilename\u001b[0m \u001b[1;32min\u001b[0m \u001b[0mos\u001b[0m\u001b[1;33m.\u001b[0m\u001b[0mlistdir\u001b[0m\u001b[1;33m(\u001b[0m\u001b[0mfolder_path\u001b[0m\u001b[1;33m)\u001b[0m\u001b[1;33m:\u001b[0m\u001b[1;33m\u001b[0m\u001b[1;33m\u001b[0m\u001b[0m\n\u001b[0m\u001b[0;32m     14\u001b[0m     \u001b[1;32mif\u001b[0m \u001b[0mfilename\u001b[0m\u001b[1;33m.\u001b[0m\u001b[0mendswith\u001b[0m\u001b[1;33m(\u001b[0m\u001b[1;34m'.xlsx'\u001b[0m\u001b[1;33m)\u001b[0m\u001b[1;33m:\u001b[0m\u001b[1;33m\u001b[0m\u001b[1;33m\u001b[0m\u001b[0m\n\u001b[0;32m     15\u001b[0m         \u001b[1;31m# print(filename)\u001b[0m\u001b[1;33m\u001b[0m\u001b[1;33m\u001b[0m\u001b[0m\n",
      "\u001b[1;31mFileNotFoundError\u001b[0m: [WinError 3] 系统找不到指定的路径。: 'E:\\\\code\\\\BiLSTM\\\\BiLSTM\\\\trainA1_2'"
     ]
    }
   ],
   "source": [
    "# 读训练集数据\n",
    "import os\n",
    "import pandas as pd\n",
    "import numpy as np\n",
    "\n",
    "# 文件夹路径\n",
    "folder_path = 'E:\\\\code\\\\BiLSTM\\\\BiLSTM\\\\trainA1_2'\n",
    "\n",
    "# target_column = [\"DZL\", \"ZRGM\"]\n",
    "all_data = []\n",
    "\n",
    "# 遍历文件夹下的每个xlsx文件\n",
    "for filename in os.listdir(folder_path):\n",
    "    if filename.endswith('.xlsx'):\n",
    "        # print(filename)\n",
    "        file_path = os.path.join(folder_path, filename)\n",
    "\n",
    "        # 读取Excel文件中的第二个表格\n",
    "        xls = pd.ExcelFile(file_path)\n",
    "        sheet_names = xls.sheet_names\n",
    "        if len(sheet_names) > 1:\n",
    "            df = pd.read_excel(file_path, sheet_name=sheet_names[1], header=None)\n",
    "\n",
    "            # 获取第三行数据作为表头\n",
    "            header = df.iloc[2]\n",
    "\n",
    "            # 找到标签为\"DZL\"和\"ZRGM\"的列\n",
    "            md_column = header[header == \"DMZKMD\"].index[0]\n",
    "            dzl_column = header[header == \"DZL\"].index[0]\n",
    "            zrgm_column = header[header == \"ZRGM\"].index[0]\n",
    "            gg_column = header[header == \"DMZKGG\"].index[0]\n",
    "            dssc_column = header[header == \"DSSC\"].index[0]\n",
    "            zrdw_column = header[header == \"ZRDW\"].index[0]\n",
    "            feature_column = header[header == \"GG\"].index[0]\n",
    "\n",
    "            # 提取对应列的数据\n",
    "            md_data = df.iloc[3:, md_column].values\n",
    "            dzl_data = df.iloc[3:, dzl_column].values\n",
    "            zrgm_data = df.iloc[3:, zrgm_column].values\n",
    "            gg_data = df.iloc[3:, gg_column].values\n",
    "            dssc_data = df.iloc[3:, dssc_column].values\n",
    "            zrdw_data = df.iloc[3:, zrdw_column].values\n",
    "            feature_data = df.iloc[3:, feature_column].values\n",
    "\n",
    "            # 清洗数据：将列转换为数值类型\n",
    "            md_data = pd.to_numeric(md_data, errors='coerce')\n",
    "            dzl_data = pd.to_numeric(dzl_data, errors='coerce')\n",
    "            zrgm_data = pd.to_numeric(zrgm_data, errors='coerce')\n",
    "            gg_data = pd.to_numeric(gg_data, errors='coerce')\n",
    "            dssc_data = pd.to_numeric(dssc_data, errors='coerce')\n",
    "            zrdw_data = pd.to_numeric(zrdw_data, errors='coerce')\n",
    "            feature_data = pd.to_numeric(feature_data, errors='coerce')\n",
    "\n",
    "            # 将数据存储到NumPy数组中\n",
    "            well_data = []\n",
    "            if len(md_data) > 0 and len(dzl_data) > 0 and len(zrgm_data) > 0 and len(gg_data) > 0 and len(dssc_data) > 0 and len(zrdw_data) > 0 and len(feature_data) > 0:\n",
    "                well_data = np.array([md_data, dzl_data, zrgm_data, gg_data, dssc_data, zrdw_data, feature_data])\n",
    "\n",
    "            # 检测有缺失值的列并创建布尔索引\n",
    "            mask = np.isnan(well_data).any(axis=0)\n",
    "            # 使用布尔索引选择不包含缺失值的列\n",
    "            well_data = well_data[:, ~mask]\n",
    "\n",
    "            # 找到开头和结尾处的\"0\"值所在列\n",
    "            start_indices = 0\n",
    "            end_indices= len(well_data[0]) - 1\n",
    "            while start_indices <= end_indices and np.any(well_data[:, start_indices] == 0):\n",
    "                start_indices += 1\n",
    "            while end_indices >= start_indices and np.any(well_data[:, end_indices] == 0):\n",
    "                end_indices -= 1\n",
    "            min_columns = end_indices - start_indices + 1\n",
    "\n",
    "            # 将剔除开头结尾处\"0\"值的数据存储到新的NumPy数组中\n",
    "            new_well_data = []\n",
    "            if start_indices <= end_indices:\n",
    "                for i in range(len(well_data)):\n",
    "                    new_well_data.append(well_data[i][start_indices:end_indices + 1])\n",
    "\n",
    "            new_well_data = np.array(new_well_data)\n",
    "            # print(new_well_data)\n",
    "\n",
    "            all_data.append(new_well_data)\n",
    "\n",
    "train_data = np.array([])\n",
    "# 循环处理每个二维数组\n",
    "for data in all_data:\n",
    "    # 使用 T 属性交换行列\n",
    "    transposed_array = data.T\n",
    "    # print(transposed_array)\n",
    "\n",
    "    # 将交换后的数组连接到结果数组\n",
    "    if train_data.size == 0:\n",
    "        train_data = transposed_array\n",
    "    else:\n",
    "        train_data = np.concatenate((train_data, transposed_array), axis=0)\n",
    "\n",
    "# 打印最终结果\n",
    "print(\"============================================\")\n",
    "print(train_data)\n",
    "print(train_data.shape)"
   ]
  },
  {
   "cell_type": "code",
   "execution_count": 3,
   "metadata": {
    "jupyter": {
     "outputs_hidden": false
    }
   },
   "outputs": [
    {
     "ename": "ModuleNotFoundError",
     "evalue": "No module named 'keras'",
     "output_type": "error",
     "traceback": [
      "\u001b[1;31m---------------------------------------------------------------------------\u001b[0m",
      "\u001b[1;31mModuleNotFoundError\u001b[0m                       Traceback (most recent call last)",
      "\u001b[1;32m~\\AppData\\Local\\Temp\\ipykernel_34248\\1148868879.py\u001b[0m in \u001b[0;36m<module>\u001b[1;34m\u001b[0m\n\u001b[0;32m      1\u001b[0m \u001b[1;31m# 模型训练\u001b[0m\u001b[1;33m\u001b[0m\u001b[1;33m\u001b[0m\u001b[0m\n\u001b[1;32m----> 2\u001b[1;33m \u001b[1;32mfrom\u001b[0m \u001b[0mkeras\u001b[0m\u001b[1;33m.\u001b[0m\u001b[0mmodels\u001b[0m \u001b[1;32mimport\u001b[0m \u001b[0mModel\u001b[0m\u001b[1;33m\u001b[0m\u001b[1;33m\u001b[0m\u001b[0m\n\u001b[0m\u001b[0;32m      3\u001b[0m \u001b[1;33m\u001b[0m\u001b[0m\n\u001b[0;32m      4\u001b[0m \u001b[0mprint\u001b[0m\u001b[1;33m(\u001b[0m\u001b[0mdrop\u001b[0m\u001b[1;33m)\u001b[0m\u001b[1;33m\u001b[0m\u001b[1;33m\u001b[0m\u001b[0m\n\u001b[0;32m      5\u001b[0m \u001b[1;31m# 归一化\u001b[0m\u001b[1;33m\u001b[0m\u001b[1;33m\u001b[0m\u001b[0m\n",
      "\u001b[1;31mModuleNotFoundError\u001b[0m: No module named 'keras'"
     ]
    }
   ],
   "source": [
    "# 模型训练\n",
    "from keras.models import Model\n",
    "\n",
    "print(drop)\n",
    "# 归一化\n",
    "train_data, _ = NormalizeMult(train_data)\n",
    "# 处理训练集数据\n",
    "train_X, train_Y = create_dataset(train_data, TIME_STEPS)\n",
    "\n",
    "m = lstm_model()\n",
    "m.summary()\n",
    "m.compile(optimizer='adam', loss='mse')\n",
    "m.fit([train_X], train_Y, epochs=20, batch_size=32, validation_split=0.2)\n",
    "m.save(\"../model/model.h5\")"
   ]
  },
  {
   "cell_type": "code",
   "execution_count": 4,
   "metadata": {
    "jupyter": {
     "outputs_hidden": false
    }
   },
   "outputs": [
    {
     "ename": "FileNotFoundError",
     "evalue": "[Errno 2] No such file or directory: 'E:\\\\code\\\\BiLSTM\\\\BiLSTM\\\\testA1\\\\ZK003.xlsx'",
     "output_type": "error",
     "traceback": [
      "\u001b[1;31m---------------------------------------------------------------------------\u001b[0m",
      "\u001b[1;31mFileNotFoundError\u001b[0m                         Traceback (most recent call last)",
      "\u001b[1;32m~\\AppData\\Local\\Temp\\ipykernel_34248\\3643041326.py\u001b[0m in \u001b[0;36m<module>\u001b[1;34m\u001b[0m\n\u001b[0;32m     10\u001b[0m \u001b[1;33m\u001b[0m\u001b[0m\n\u001b[0;32m     11\u001b[0m \u001b[1;31m# 读取Excel文件中的第二个表格\u001b[0m\u001b[1;33m\u001b[0m\u001b[1;33m\u001b[0m\u001b[0m\n\u001b[1;32m---> 12\u001b[1;33m \u001b[0mxls\u001b[0m \u001b[1;33m=\u001b[0m \u001b[0mpd\u001b[0m\u001b[1;33m.\u001b[0m\u001b[0mExcelFile\u001b[0m\u001b[1;33m(\u001b[0m\u001b[0mfile_path\u001b[0m\u001b[1;33m)\u001b[0m\u001b[1;33m\u001b[0m\u001b[1;33m\u001b[0m\u001b[0m\n\u001b[0m\u001b[0;32m     13\u001b[0m \u001b[0msheet_names\u001b[0m \u001b[1;33m=\u001b[0m \u001b[0mxls\u001b[0m\u001b[1;33m.\u001b[0m\u001b[0msheet_names\u001b[0m\u001b[1;33m\u001b[0m\u001b[1;33m\u001b[0m\u001b[0m\n\u001b[0;32m     14\u001b[0m \u001b[1;32mif\u001b[0m \u001b[0mlen\u001b[0m\u001b[1;33m(\u001b[0m\u001b[0msheet_names\u001b[0m\u001b[1;33m)\u001b[0m \u001b[1;33m>\u001b[0m \u001b[1;36m1\u001b[0m\u001b[1;33m:\u001b[0m\u001b[1;33m\u001b[0m\u001b[1;33m\u001b[0m\u001b[0m\n",
      "\u001b[1;32mD:\\Program\\anaconda3\\lib\\site-packages\\pandas\\io\\excel\\_base.py\u001b[0m in \u001b[0;36m__init__\u001b[1;34m(self, path_or_buffer, engine, storage_options)\u001b[0m\n\u001b[0;32m   1374\u001b[0m                 \u001b[0mext\u001b[0m \u001b[1;33m=\u001b[0m \u001b[1;34m\"xls\"\u001b[0m\u001b[1;33m\u001b[0m\u001b[1;33m\u001b[0m\u001b[0m\n\u001b[0;32m   1375\u001b[0m             \u001b[1;32melse\u001b[0m\u001b[1;33m:\u001b[0m\u001b[1;33m\u001b[0m\u001b[1;33m\u001b[0m\u001b[0m\n\u001b[1;32m-> 1376\u001b[1;33m                 ext = inspect_excel_format(\n\u001b[0m\u001b[0;32m   1377\u001b[0m                     \u001b[0mcontent_or_path\u001b[0m\u001b[1;33m=\u001b[0m\u001b[0mpath_or_buffer\u001b[0m\u001b[1;33m,\u001b[0m \u001b[0mstorage_options\u001b[0m\u001b[1;33m=\u001b[0m\u001b[0mstorage_options\u001b[0m\u001b[1;33m\u001b[0m\u001b[1;33m\u001b[0m\u001b[0m\n\u001b[0;32m   1378\u001b[0m                 )\n",
      "\u001b[1;32mD:\\Program\\anaconda3\\lib\\site-packages\\pandas\\io\\excel\\_base.py\u001b[0m in \u001b[0;36minspect_excel_format\u001b[1;34m(content_or_path, storage_options)\u001b[0m\n\u001b[0;32m   1248\u001b[0m         \u001b[0mcontent_or_path\u001b[0m \u001b[1;33m=\u001b[0m \u001b[0mBytesIO\u001b[0m\u001b[1;33m(\u001b[0m\u001b[0mcontent_or_path\u001b[0m\u001b[1;33m)\u001b[0m\u001b[1;33m\u001b[0m\u001b[1;33m\u001b[0m\u001b[0m\n\u001b[0;32m   1249\u001b[0m \u001b[1;33m\u001b[0m\u001b[0m\n\u001b[1;32m-> 1250\u001b[1;33m     with get_handle(\n\u001b[0m\u001b[0;32m   1251\u001b[0m         \u001b[0mcontent_or_path\u001b[0m\u001b[1;33m,\u001b[0m \u001b[1;34m\"rb\"\u001b[0m\u001b[1;33m,\u001b[0m \u001b[0mstorage_options\u001b[0m\u001b[1;33m=\u001b[0m\u001b[0mstorage_options\u001b[0m\u001b[1;33m,\u001b[0m \u001b[0mis_text\u001b[0m\u001b[1;33m=\u001b[0m\u001b[1;32mFalse\u001b[0m\u001b[1;33m\u001b[0m\u001b[1;33m\u001b[0m\u001b[0m\n\u001b[0;32m   1252\u001b[0m     ) as handle:\n",
      "\u001b[1;32mD:\\Program\\anaconda3\\lib\\site-packages\\pandas\\io\\common.py\u001b[0m in \u001b[0;36mget_handle\u001b[1;34m(path_or_buf, mode, encoding, compression, memory_map, is_text, errors, storage_options)\u001b[0m\n\u001b[0;32m    793\u001b[0m         \u001b[1;32melse\u001b[0m\u001b[1;33m:\u001b[0m\u001b[1;33m\u001b[0m\u001b[1;33m\u001b[0m\u001b[0m\n\u001b[0;32m    794\u001b[0m             \u001b[1;31m# Binary mode\u001b[0m\u001b[1;33m\u001b[0m\u001b[1;33m\u001b[0m\u001b[0m\n\u001b[1;32m--> 795\u001b[1;33m             \u001b[0mhandle\u001b[0m \u001b[1;33m=\u001b[0m \u001b[0mopen\u001b[0m\u001b[1;33m(\u001b[0m\u001b[0mhandle\u001b[0m\u001b[1;33m,\u001b[0m \u001b[0mioargs\u001b[0m\u001b[1;33m.\u001b[0m\u001b[0mmode\u001b[0m\u001b[1;33m)\u001b[0m\u001b[1;33m\u001b[0m\u001b[1;33m\u001b[0m\u001b[0m\n\u001b[0m\u001b[0;32m    796\u001b[0m         \u001b[0mhandles\u001b[0m\u001b[1;33m.\u001b[0m\u001b[0mappend\u001b[0m\u001b[1;33m(\u001b[0m\u001b[0mhandle\u001b[0m\u001b[1;33m)\u001b[0m\u001b[1;33m\u001b[0m\u001b[1;33m\u001b[0m\u001b[0m\n\u001b[0;32m    797\u001b[0m \u001b[1;33m\u001b[0m\u001b[0m\n",
      "\u001b[1;31mFileNotFoundError\u001b[0m: [Errno 2] No such file or directory: 'E:\\\\code\\\\BiLSTM\\\\BiLSTM\\\\testA1\\\\ZK003.xlsx'"
     ]
    }
   ],
   "source": [
    "# 读测试集数据\n",
    "import os\n",
    "import pandas as pd\n",
    "import numpy as np\n",
    "\n",
    "test_data = []\n",
    "\n",
    "# 读取测试的xlsx文件\n",
    "file_path = 'E:\\\\code\\\\BiLSTM\\\\BiLSTM\\\\testA1\\\\ZK003.xlsx'\n",
    "\n",
    "# 读取Excel文件中的第二个表格\n",
    "xls = pd.ExcelFile(file_path)\n",
    "sheet_names = xls.sheet_names\n",
    "if len(sheet_names) > 1:\n",
    "    df = pd.read_excel(file_path, sheet_name=sheet_names[1], header=None)\n",
    "\n",
    "    # 获取第三行数据作为表头\n",
    "    header = df.iloc[2]\n",
    "\n",
    "    # 找到标签为\"DZL\"和\"ZRGM\"的列\n",
    "    sd_column = header[header == \"DMZKSD\"].index[0]\n",
    "    md_column = header[header == \"DMZKMD\"].index[0]\n",
    "    dzl_column = header[header == \"DZL\"].index[0]\n",
    "    zrgm_column = header[header == \"ZRGM\"].index[0]\n",
    "    gg_column = header[header == \"DMZKGG\"].index[0]\n",
    "    dssc_column = header[header == \"DSSC\"].index[0]\n",
    "    zrdw_column = header[header == \"ZRDW\"].index[0]\n",
    "    feature_column = header[header == \"GG\"].index[0]\n",
    "\n",
    "    # 提取对应列的数据\n",
    "    sd_data = df.iloc[3:, sd_column].values\n",
    "    md_data = df.iloc[3:, md_column].values\n",
    "    dzl_data = df.iloc[3:, dzl_column].values\n",
    "    zrgm_data = df.iloc[3:, zrgm_column].values\n",
    "    gg_data = df.iloc[3:, gg_column].values\n",
    "    dssc_data = df.iloc[3:, dssc_column].values\n",
    "    zrdw_data = df.iloc[3:, zrdw_column].values\n",
    "    feature_data = df.iloc[3:, feature_column].values\n",
    "\n",
    "    # 清洗数据：将列转换为数值类型\n",
    "    sd_data = pd.to_numeric(sd_data, errors='coerce')\n",
    "    md_data = pd.to_numeric(md_data, errors='coerce')\n",
    "    dzl_data = pd.to_numeric(dzl_data, errors='coerce')\n",
    "    zrgm_data = pd.to_numeric(zrgm_data, errors='coerce')\n",
    "    gg_data = pd.to_numeric(gg_data, errors='coerce')\n",
    "    dssc_data = pd.to_numeric(dssc_data, errors='coerce')\n",
    "    zrdw_data = pd.to_numeric(zrdw_data, errors='coerce')\n",
    "    feature_data = pd.to_numeric(feature_data, errors='coerce')\n",
    "\n",
    "    # 将数据存储到NumPy数组中\n",
    "    well_data = []\n",
    "    if len(sd_data) > 0 and len(md_data) > 0 and len(dzl_data) > 0 and len(zrgm_data) > 0 and len(gg_data) > 0 and len(dssc_data) > 0 and len(zrdw_data) > 0 and len(feature_data) > 0:\n",
    "        well_data = np.array([sd_data, md_data, dzl_data, zrgm_data, gg_data, dssc_data, zrdw_data, feature_data])\n",
    "\n",
    "    # 检测有缺失值的列并创建布尔索引\n",
    "    mask = np.isnan(well_data).any(axis=0)\n",
    "    # 使用布尔索引选择不包含缺失值的列\n",
    "    well_data = well_data[:, ~mask]\n",
    "\n",
    "    # 找到开头和结尾处的\"0\"值所在列\n",
    "    start_indices = 0\n",
    "    end_indices= len(well_data[0]) - 1\n",
    "    while start_indices <= end_indices and np.any(well_data[:, start_indices] == 0):\n",
    "        start_indices += 1\n",
    "    while end_indices >= start_indices and np.any(well_data[:, end_indices] == 0):\n",
    "        end_indices -= 1\n",
    "    min_columns = end_indices - start_indices + 1\n",
    "\n",
    "    # 将剔除开头结尾处\"0\"值的数据存储到新的NumPy数组中\n",
    "    new_well_data = []\n",
    "    if start_indices <= end_indices:\n",
    "        for i in range(len(well_data)):\n",
    "            new_well_data.append(well_data[i][start_indices:end_indices + 1])\n",
    "\n",
    "    new_well_data = np.array(new_well_data)\n",
    "\n",
    "test_data = new_well_data[1:].T\n",
    "print(test_data)\n",
    "print(test_data.shape)\n",
    "\n",
    "# 归一化\n",
    "test_data, normalize = NormalizeMult(np.array(test_data))\n",
    "np.save(\"../normalize.npy\", normalize)\n",
    "# 处理测试集数据\n",
    "test_X, test_Y = create_dataset(test_data, TIME_STEPS)"
   ]
  },
  {
   "cell_type": "code",
   "execution_count": 5,
   "metadata": {
    "jupyter": {
     "outputs_hidden": false
    }
   },
   "outputs": [
    {
     "ename": "ModuleNotFoundError",
     "evalue": "No module named 'tensorflow'",
     "output_type": "error",
     "traceback": [
      "\u001b[1;31m---------------------------------------------------------------------------\u001b[0m",
      "\u001b[1;31mModuleNotFoundError\u001b[0m                       Traceback (most recent call last)",
      "\u001b[1;32m~\\AppData\\Local\\Temp\\ipykernel_34248\\3298424474.py\u001b[0m in \u001b[0;36m<module>\u001b[1;34m\u001b[0m\n\u001b[0;32m      1\u001b[0m \u001b[1;31m# 预测\u001b[0m\u001b[1;33m\u001b[0m\u001b[1;33m\u001b[0m\u001b[0m\n\u001b[1;32m----> 2\u001b[1;33m \u001b[1;32mimport\u001b[0m \u001b[0mtensorflow\u001b[0m \u001b[1;32mas\u001b[0m \u001b[0mtf\u001b[0m\u001b[1;33m\u001b[0m\u001b[1;33m\u001b[0m\u001b[0m\n\u001b[0m\u001b[0;32m      3\u001b[0m \u001b[1;33m\u001b[0m\u001b[0m\n\u001b[0;32m      4\u001b[0m \u001b[1;31m# scores_test = m.evaluate([test_X], test_Y)\u001b[0m\u001b[1;33m\u001b[0m\u001b[1;33m\u001b[0m\u001b[0m\n\u001b[0;32m      5\u001b[0m \u001b[1;31m# print(scores_test)\u001b[0m\u001b[1;33m\u001b[0m\u001b[1;33m\u001b[0m\u001b[0m\n",
      "\u001b[1;31mModuleNotFoundError\u001b[0m: No module named 'tensorflow'"
     ]
    }
   ],
   "source": [
    "# 预测\n",
    "import tensorflow as tf\n",
    "\n",
    "# scores_test = m.evaluate([test_X], test_Y)\n",
    "# print(scores_test)\n",
    "\n",
    "# 进行预测\n",
    "model = tf.keras.models.load_model('../model/model.h5')\n",
    "results = model.predict([test_X])\n",
    "# 反归一化\n",
    "results = FNormalizeMult(results, normalize)\n",
    "# 用第一个数据填充最前面几条没有被预测的数据\n",
    "first_data = results[0]\n",
    "end_data = results[results.shape[0] - 1]\n",
    "for _ in range(TIME_STEPS // 2):\n",
    "    results = np.insert(results, 0, [first_data], axis=0)\n",
    "    results = np.append(results, [end_data], axis=0)\n",
    "print(results)"
   ]
  },
  {
   "cell_type": "code",
   "execution_count": 6,
   "metadata": {
    "jupyter": {
     "outputs_hidden": false
    }
   },
   "outputs": [
    {
     "ename": "NameError",
     "evalue": "name 'results' is not defined",
     "output_type": "error",
     "traceback": [
      "\u001b[1;31m---------------------------------------------------------------------------\u001b[0m",
      "\u001b[1;31mNameError\u001b[0m                                 Traceback (most recent call last)",
      "\u001b[1;32m~\\AppData\\Local\\Temp\\ipykernel_34248\\3928884486.py\u001b[0m in \u001b[0;36m<module>\u001b[1;34m\u001b[0m\n\u001b[0;32m      1\u001b[0m \u001b[1;32mimport\u001b[0m \u001b[0mpandas\u001b[0m \u001b[1;32mas\u001b[0m \u001b[0mpd\u001b[0m\u001b[1;33m\u001b[0m\u001b[1;33m\u001b[0m\u001b[0m\n\u001b[0;32m      2\u001b[0m \u001b[1;33m\u001b[0m\u001b[0m\n\u001b[1;32m----> 3\u001b[1;33m \u001b[0mresults\u001b[0m \u001b[1;33m=\u001b[0m \u001b[0mresults\u001b[0m\u001b[1;33m.\u001b[0m\u001b[0mravel\u001b[0m\u001b[1;33m(\u001b[0m\u001b[1;33m)\u001b[0m\u001b[1;33m\u001b[0m\u001b[1;33m\u001b[0m\u001b[0m\n\u001b[0m\u001b[0;32m      4\u001b[0m \u001b[0mprint\u001b[0m\u001b[1;33m(\u001b[0m\u001b[0mlen\u001b[0m\u001b[1;33m(\u001b[0m\u001b[0mresults\u001b[0m\u001b[1;33m)\u001b[0m\u001b[1;33m)\u001b[0m\u001b[1;33m\u001b[0m\u001b[1;33m\u001b[0m\u001b[0m\n\u001b[0;32m      5\u001b[0m \u001b[0mprint\u001b[0m\u001b[1;33m(\u001b[0m\u001b[0mlen\u001b[0m\u001b[1;33m(\u001b[0m\u001b[0mnew_well_data\u001b[0m\u001b[1;33m[\u001b[0m\u001b[1;36m1\u001b[0m\u001b[1;33m]\u001b[0m\u001b[1;33m)\u001b[0m\u001b[1;33m)\u001b[0m\u001b[1;33m\u001b[0m\u001b[1;33m\u001b[0m\u001b[0m\n",
      "\u001b[1;31mNameError\u001b[0m: name 'results' is not defined"
     ]
    }
   ],
   "source": [
    "import pandas as pd\n",
    "\n",
    "results = results.ravel()\n",
    "print(len(results))\n",
    "print(len(new_well_data[1]))\n",
    "\n",
    "# 保存预测值\n",
    "df = pd.DataFrame({'Predict': results, 'True': new_well_data[1], 'Depth': new_well_data[0]})\n",
    "excel_file = '../res/GGBiLSTM_predict_data.xlsx'\n",
    "df.to_excel(excel_file, index=False)"
   ]
  },
  {
   "cell_type": "code",
   "execution_count": null,
   "metadata": {},
   "outputs": [],
   "source": []
  }
 ],
 "metadata": {
  "kernelspec": {
   "display_name": "Python 3 (ipykernel)",
   "language": "python",
   "name": "python3"
  },
  "language_info": {
   "codemirror_mode": {
    "name": "ipython",
    "version": 3
   },
   "file_extension": ".py",
   "mimetype": "text/x-python",
   "name": "python",
   "nbconvert_exporter": "python",
   "pygments_lexer": "ipython3",
   "version": "3.9.13"
  }
 },
 "nbformat": 4,
 "nbformat_minor": 4
}
